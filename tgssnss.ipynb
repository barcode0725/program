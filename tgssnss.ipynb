{
  "nbformat": 4,
  "nbformat_minor": 0,
  "metadata": {
    "colab": {
      "provenance": [],
      "name": "tgs2.ipynb",
      "include_colab_link": true
    },
    "kernelspec": {
      "name": "python3",
      "display_name": "Python 3"
    },
    "language_info": {
      "name": "python"
    }
  },
  "cells": [
    {
      "cell_type": "markdown",
      "metadata": {
        "id": "view-in-github",
        "colab_type": "text"
      },
      "source": [
        "<a href=\"https://colab.research.google.com/github/barcode0725/program/blob/main/tgssnss.ipynb\" target=\"_parent\"><img src=\"https://colab.research.google.com/assets/colab-badge.svg\" alt=\"Open In Colab\"/></a>"
      ]
    },
    {
      "cell_type": "markdown",
      "source": [],
      "metadata": {
        "id": "oEco7NBUWl_u"
      }
    },
    {
      "cell_type": "markdown",
      "source": [
        "Langkah pertama ialah menginstall snscrape.\n",
        "\n",
        "social networking services atau yang biasa disingkat (SNS) berfungsi untuk mengikis atau memilih data seperti profil pengguna, tagar, atau mencari dan mengumpulkan data yang ditemukan dengan postingan yang relevan."
      ],
      "metadata": {
        "id": "2NJUYEj1WpeJ"
      }
    },
    {
      "cell_type": "code",
      "source": [
        "!pip3 install snscrape"
      ],
      "metadata": {
        "colab": {
          "base_uri": "https://localhost:8080/"
        },
        "id": "EKuY9JdoWedL",
        "outputId": "aeeef2f0-6529-447f-9aa5-e6c3d207b2c2"
      },
      "execution_count": null,
      "outputs": [
        {
          "output_type": "stream",
          "name": "stdout",
          "text": [
            "Looking in indexes: https://pypi.org/simple, https://us-python.pkg.dev/colab-wheels/public/simple/\n",
            "Collecting snscrape\n",
            "  Downloading snscrape-0.3.4-py3-none-any.whl (35 kB)\n",
            "Requirement already satisfied: beautifulsoup4 in /usr/local/lib/python3.7/dist-packages (from snscrape) (4.6.3)\n",
            "Requirement already satisfied: requests[socks] in /usr/local/lib/python3.7/dist-packages (from snscrape) (2.23.0)\n",
            "Requirement already satisfied: lxml in /usr/local/lib/python3.7/dist-packages (from snscrape) (4.9.1)\n",
            "Requirement already satisfied: idna<3,>=2.5 in /usr/local/lib/python3.7/dist-packages (from requests[socks]->snscrape) (2.10)\n",
            "Requirement already satisfied: chardet<4,>=3.0.2 in /usr/local/lib/python3.7/dist-packages (from requests[socks]->snscrape) (3.0.4)\n",
            "Requirement already satisfied: urllib3!=1.25.0,!=1.25.1,<1.26,>=1.21.1 in /usr/local/lib/python3.7/dist-packages (from requests[socks]->snscrape) (1.24.3)\n",
            "Requirement already satisfied: certifi>=2017.4.17 in /usr/local/lib/python3.7/dist-packages (from requests[socks]->snscrape) (2022.9.24)\n",
            "Requirement already satisfied: PySocks!=1.5.7,>=1.5.6 in /usr/local/lib/python3.7/dist-packages (from requests[socks]->snscrape) (1.7.1)\n",
            "Installing collected packages: snscrape\n",
            "Successfully installed snscrape-0.3.4\n"
          ]
        }
      ]
    },
    {
      "cell_type": "markdown",
      "source": [
        "Selanjutnya yaitu menginstall library langdetect.\n",
        "\n",
        "Fungsi dari langdetect untuk mengimplementasi ulang pustaka deteksi bahasa Google ke Python"
      ],
      "metadata": {
        "id": "zfogP8JcbCgg"
      }
    },
    {
      "cell_type": "code",
      "source": [
        "pip install langdetect"
      ],
      "metadata": {
        "colab": {
          "base_uri": "https://localhost:8080/"
        },
        "id": "_cpGkLAoZegb",
        "outputId": "3ac421eb-ee44-4327-bb48-b51b1f9fa6d0"
      },
      "execution_count": null,
      "outputs": [
        {
          "output_type": "stream",
          "name": "stdout",
          "text": [
            "Looking in indexes: https://pypi.org/simple, https://us-python.pkg.dev/colab-wheels/public/simple/\n",
            "Collecting langdetect\n",
            "  Downloading langdetect-1.0.9.tar.gz (981 kB)\n",
            "\u001b[K     |████████████████████████████████| 981 kB 5.3 MB/s \n",
            "\u001b[?25hRequirement already satisfied: six in /usr/local/lib/python3.7/dist-packages (from langdetect) (1.15.0)\n",
            "Building wheels for collected packages: langdetect\n",
            "  Building wheel for langdetect (setup.py) ... \u001b[?25l\u001b[?25hdone\n",
            "  Created wheel for langdetect: filename=langdetect-1.0.9-py3-none-any.whl size=993242 sha256=e7b3f260c88d23d4d13651b9131cc3a1da898f395859002c15144e1c052ae800\n",
            "  Stored in directory: /root/.cache/pip/wheels/c5/96/8a/f90c59ed25d75e50a8c10a1b1c2d4c402e4dacfa87f3aff36a\n",
            "Successfully built langdetect\n",
            "Installing collected packages: langdetect\n",
            "Successfully installed langdetect-1.0.9\n"
          ]
        }
      ]
    },
    {
      "cell_type": "code",
      "source": [
        "#PROSES INI BERMANFAAT UNTUK MENGIMPOR MODUL SNSCRAPE UNTUK MENANGANI DATA YANG KITA DAPATKAN DARI TWITTER\n",
        "import snscrape.modules.twitter as sntwitter\n",
        "import json\n",
        "from langdetect import detect"
      ],
      "metadata": {
        "id": "TXJV6YeeZihZ"
      },
      "execution_count": null,
      "outputs": []
    },
    {
      "cell_type": "code",
      "source": [
        "# DISINI KITA AKAN MEMASUKAN KATA KUNCI DAN RENTANG WAKTU KATA KUNCI YANG AKAN DICARI\n",
        "keywords=['LESTI']\n",
        "start=\"2022–09–01\"\n",
        "end =\"2022–10–13\"\n",
        "max_num=10\n",
        "fname='tweet.json' \n",
        "languages=['id','en']"
      ],
      "metadata": {
        "id": "_sPucD-vZsz1"
      },
      "execution_count": null,
      "outputs": []
    },
    {
      "cell_type": "markdown",
      "source": [
        "Lalu mengimport library panda\n",
        "\n",
        "Fungsi dari Library Panda untuk membuat tabel, mengubah dimensi data, mengecek data, dan lain sebagainya. Karena pada Library Panda menyediakan struktur data dan analisis data yang mudah digunakan.\n"
      ],
      "metadata": {
        "id": "EkyC3jM2c5CA"
      }
    },
    {
      "cell_type": "code",
      "source": [
        "#MEMBUAT VARIABEL \"datatw\" UNTUK, MENAMPILKAN HASIL DATA YANG DIAMBIL DARI TWITTER\n",
        "import pandas as pd\n",
        "datatw=[]"
      ],
      "metadata": {
        "id": "pf7ZIVlVzwy7"
      },
      "execution_count": null,
      "outputs": []
    },
    {
      "cell_type": "code",
      "source": [
        "for keyword in keywords:\n",
        "   \n",
        "    for i, tweet in enumerate (sntwitter.TwitterSearchScraper(f'{keyword} ').get_items()):\n",
        "        \n",
        "        try:\n",
        "            lan=detect(tweet.content)\n",
        "        except:\n",
        "            lan='error'\n",
        "        if i == max_num:\n",
        "            break\n",
        "        if lan in languages:\n",
        "            data = {'id': tweet.id, 'username':tweet.username, 'date': tweet.date, 'text': tweet.content,'url':tweet.url}\n",
        "           # print(data)\n",
        "            datatw.append(tweet.content)\n",
        "            with open(fname, 'a+', encoding='utf-8') as f:\n",
        "                line = json.dumps(data, ensure_ascii=False,default=str)\n",
        "                #print(line)\n",
        "                f.write(line)\n",
        "                f.write('\\n')"
      ],
      "metadata": {
        "id": "1-8oNU5nZmMT"
      },
      "execution_count": null,
      "outputs": []
    },
    {
      "cell_type": "code",
      "source": [
        "datatw"
      ],
      "metadata": {
        "colab": {
          "base_uri": "https://localhost:8080/"
        },
        "id": "ER2Zx6Y90jj1",
        "outputId": "b4a1ee89-4aa3-42dc-d95e-85be499b8b40"
      },
      "execution_count": null,
      "outputs": [
        {
          "output_type": "execute_result",
          "data": {
            "text/plain": [
              "['Td ngmongin lesti sm tmn2 kerja, ikut gblk2in sbgaimana netizen lainnya, tp pengen sekaligus smbil peluk dia &amp; blg please dont try too hard \\U0001fae0',\n",
              " '@AdytiaSn Kendak kau lesti Iyo billar kau nian, ringam aku nyingok nyo🤣',\n",
              " 'Masih Berstatus Tersangka! Bahasa Tubuh Rizky Bilar Diduga Simpan Kekesalan Mendalam Pada Lesti\\n#kdrt #LestiKDRT #lestibillar #kdrt \\nhttps://t.co/KvaWY44YQs',\n",
              " '@uuduknasi_ @jokowi Kira-kira gimana tanggapan lesti liat twit lu',\n",
              " '@luculucuaaan Ekspresinya lesti tuh kaya senyum tapi kosong?']"
            ]
          },
          "metadata": {},
          "execution_count": 9
        }
      ]
    },
    {
      "cell_type": "markdown",
      "source": [
        "Langkah selanjutnya ialah menginstall Sastrawi \n",
        "Sastrawi merupakan library sederhana yang dapat mengubah kata berimbuhan bahasa Indonesia menjadi bentuk dasarnya. "
      ],
      "metadata": {
        "id": "wkRKnhk6e8iS"
      }
    },
    {
      "cell_type": "code",
      "source": [
        "!pip install Sastrawi"
      ],
      "metadata": {
        "colab": {
          "base_uri": "https://localhost:8080/"
        },
        "id": "xeqqY0rz3165",
        "outputId": "e63ed841-1b56-4a18-db4c-1348b078493e"
      },
      "execution_count": null,
      "outputs": [
        {
          "output_type": "stream",
          "name": "stdout",
          "text": [
            "Looking in indexes: https://pypi.org/simple, https://us-python.pkg.dev/colab-wheels/public/simple/\n",
            "Collecting Sastrawi\n",
            "  Downloading Sastrawi-1.0.1-py2.py3-none-any.whl (209 kB)\n",
            "\u001b[?25l\r\u001b[K     |█▋                              | 10 kB 20.9 MB/s eta 0:00:01\r\u001b[K     |███▏                            | 20 kB 5.9 MB/s eta 0:00:01\r\u001b[K     |████▊                           | 30 kB 8.4 MB/s eta 0:00:01\r\u001b[K     |██████▎                         | 40 kB 4.3 MB/s eta 0:00:01\r\u001b[K     |███████▉                        | 51 kB 4.3 MB/s eta 0:00:01\r\u001b[K     |█████████▍                      | 61 kB 5.1 MB/s eta 0:00:01\r\u001b[K     |███████████                     | 71 kB 5.2 MB/s eta 0:00:01\r\u001b[K     |████████████▌                   | 81 kB 5.9 MB/s eta 0:00:01\r\u001b[K     |██████████████                  | 92 kB 4.6 MB/s eta 0:00:01\r\u001b[K     |███████████████▋                | 102 kB 5.1 MB/s eta 0:00:01\r\u001b[K     |█████████████████▏              | 112 kB 5.1 MB/s eta 0:00:01\r\u001b[K     |██████████████████▊             | 122 kB 5.1 MB/s eta 0:00:01\r\u001b[K     |████████████████████▎           | 133 kB 5.1 MB/s eta 0:00:01\r\u001b[K     |█████████████████████▉          | 143 kB 5.1 MB/s eta 0:00:01\r\u001b[K     |███████████████████████▍        | 153 kB 5.1 MB/s eta 0:00:01\r\u001b[K     |█████████████████████████       | 163 kB 5.1 MB/s eta 0:00:01\r\u001b[K     |██████████████████████████▋     | 174 kB 5.1 MB/s eta 0:00:01\r\u001b[K     |████████████████████████████▏   | 184 kB 5.1 MB/s eta 0:00:01\r\u001b[K     |█████████████████████████████▊  | 194 kB 5.1 MB/s eta 0:00:01\r\u001b[K     |███████████████████████████████▎| 204 kB 5.1 MB/s eta 0:00:01\r\u001b[K     |████████████████████████████████| 209 kB 5.1 MB/s \n",
            "\u001b[?25hInstalling collected packages: Sastrawi\n",
            "Successfully installed Sastrawi-1.0.1\n"
          ]
        }
      ]
    },
    {
      "cell_type": "code",
      "source": [
        "import re\n",
        "import string\n",
        "from Sastrawi.Stemmer.StemmerFactory import StemmerFactory# create stemmer\n",
        "factory = StemmerFactory()\n",
        "stemmer = factory.create_stemmer()# stemming process\n",
        "# import StopWordRemoverFactory class\n",
        "from Sastrawi.StopWordRemover.StopWordRemoverFactory import StopWordRemoverFactory\n",
        "factory = StopWordRemoverFactory()\n",
        "stopword = factory.create_stop_word_remover()\n",
        "documents_clean=[]\n",
        "\n",
        "for d in datatw:\n",
        "    outputstem= stemmer.stem(d)\n",
        "    d= stopword.remove(outputstem)\n",
        "    # Remove Unicode\n",
        "    document_test = re.sub(r'[^\\x00-\\x7F]+', ' ', d)\n",
        "    # Remove Mentions\n",
        "    document_test = re.sub(r'@\\w+', '', document_test)\n",
        "    # Lowercase the document\n",
        "    document_test = document_test.lower()\n",
        "    # Remove punctuations\n",
        "    document_test = re.sub(r'[%s]' % re.escape(string.punctuation), ' ', document_test)\n",
        "    # Lowercase the numbers\n",
        "    document_test = re.sub(r'[0-9]', '', document_test)\n",
        "    # Remove the doubled space\n",
        "    outputstop = re.sub(r'\\s{2,}', ' ', document_test)\n",
        "    documents_clean.append(outputstop)"
      ],
      "metadata": {
        "id": "yhu7e8JA3pz9"
      },
      "execution_count": null,
      "outputs": []
    },
    {
      "cell_type": "markdown",
      "source": [
        "lalu kita akan menggunakan documents_clean untuk menghapus semua karakter tidak dapat dicetak dari teks"
      ],
      "metadata": {
        "id": "mBsx8Mxdf540"
      }
    },
    {
      "cell_type": "code",
      "source": [
        "documents_clean[0:5]"
      ],
      "metadata": {
        "id": "DHryKJcs4ZYC",
        "outputId": "60f1db86-6496-4f16-da7d-421a2fcbf4cd",
        "colab": {
          "base_uri": "https://localhost:8080/"
        }
      },
      "execution_count": null,
      "outputs": [
        {
          "output_type": "execute_result",
          "data": {
            "text/plain": [
              "['td ngmongin lesti sm tmn kerja ikut gblkin sbgaimana netizen tp ken sekaligus smbil peluk amp blg please dont try too hard',\n",
              " 'adytiasn kendak kau lesti iyo billar kau nian ringam aku nyingok nyo',\n",
              " 'status sangka bahasa tubuh rizky bilar duga simpan kesal pada lesti kdrt lestikdrt lestibillar kdrt https t co kvawyyqs',\n",
              " 'uuduknasi jokowi kira gimana tanggap lesti liat twit lu',\n",
              " 'luculucuaaan ekspresi lesti tuh kaya senyum kosong']"
            ]
          },
          "metadata": {},
          "execution_count": 12
        }
      ]
    },
    {
      "cell_type": "markdown",
      "source": [
        "selanjutnya kita menggunakan TfidfVectorizer untuk membuat matriks padat di mana setiap kolom adalah kata dalam kosakata kita, dan setiap baris sesuai dengan dokumen."
      ],
      "metadata": {
        "id": "7xG1HtvfgwWv"
      }
    },
    {
      "cell_type": "code",
      "source": [
        "from sklearn.feature_extraction.text import TfidfVectorizer\n",
        "import pandas as pd\n",
        "tfidfvectorizer = TfidfVectorizer(analyzer='word')\n",
        "tfidf_wm = tfidfvectorizer.fit_transform(documents_clean)\n",
        "tfidf_tokens = tfidfvectorizer.get_feature_names()\n"
      ],
      "metadata": {
        "id": "WP-WtqiG6OMq",
        "colab": {
          "base_uri": "https://localhost:8080/"
        },
        "outputId": "68d54546-6336-46e6-f8cc-56023b3b1a5e"
      },
      "execution_count": null,
      "outputs": [
        {
          "output_type": "stream",
          "name": "stderr",
          "text": [
            "/usr/local/lib/python3.7/dist-packages/sklearn/utils/deprecation.py:87: FutureWarning: Function get_feature_names is deprecated; get_feature_names is deprecated in 1.0 and will be removed in 1.2. Please use get_feature_names_out instead.\n",
            "  warnings.warn(msg, category=FutureWarning)\n"
          ]
        }
      ]
    },
    {
      "cell_type": "code",
      "source": [
        "from sklearn.feature_extraction.text import CountVectorizer \n",
        "import matplotlib.pyplot as plt\n",
        "import numpy as np # linear algebra\n",
        "import pandas as pd # data processing, CSV file I/O (e.g. pd.read_csv)\n",
        "cv = CountVectorizer() #CountVectorizer, berfungsi untuk menghitung frekuensi kata dalam dokumen.\n",
        "words = cv.fit_transform(documents_clean)\n",
        "sum_words = words.sum(axis=0)\n",
        "\n",
        "\n",
        "words_freq = [(word, sum_words[0, idx]) for word, idx in cv.vocabulary_.items()]\n",
        "words_freq = sorted(words_freq, key = lambda x: x[1], reverse = True)\n",
        "frequency = pd.DataFrame(words_freq, columns=['word', 'freq'])\n",
        "\n",
        "color = plt.cm.twilight(np.linspace(0, 1, 20))\n",
        "frequency.head(20).plot(x='word', y='freq', kind='bar', figsize=(15, 7), color = color)\n",
        "plt.title(\"Most Frequently Occuring Words - Top 20\")"
      ],
      "metadata": {
        "id": "Q3MAvwPA6iRL",
        "outputId": "a0dd51ce-b3b4-477a-89a0-9f9918ba568b",
        "colab": {
          "base_uri": "https://localhost:8080/",
          "height": 521
        }
      },
      "execution_count": null,
      "outputs": [
        {
          "output_type": "execute_result",
          "data": {
            "text/plain": [
              "Text(0.5, 1.0, 'Most Frequently Occuring Words - Top 20')"
            ]
          },
          "metadata": {},
          "execution_count": 14
        },
        {
          "output_type": "display_data",
          "data": {
            "text/plain": [
              "<Figure size 1080x504 with 1 Axes>"
            ],
            "image/png": "[encoded data removed]"
          },
          "metadata": {
            "needs_background": "light"
          }
        }
      ]
    },
    {
      "cell_type": "code",
      "source": [
        "## IMPORT K-MEANS UNTUK PROSES CLUSTERING\n",
        "from sklearn.cluster import KMeans\n",
        "true_k = 3\n",
        "model = KMeans(n_clusters=true_k, init='k-means++', max_iter=100, n_init=1)\n",
        "model.fit(words)"
      ],
      "metadata": {
        "id": "nEcdy2u66tLW",
        "outputId": "211ac465-bf2e-4e82-894f-8f2d15d59bc7",
        "colab": {
          "base_uri": "https://localhost:8080/"
        }
      },
      "execution_count": null,
      "outputs": [
        {
          "output_type": "execute_result",
          "data": {
            "text/plain": [
              "KMeans(max_iter=100, n_clusters=3, n_init=1)"
            ]
          },
          "metadata": {},
          "execution_count": 15
        }
      ]
    },
    {
      "cell_type": "code",
      "source": [
        "# LAKUKAN ORDER CENTROID, UNTUK MEMBERIKAN HASIL UNTUK DI SETIAP CLUSTER\n",
        "order_centroids = model.cluster_centers_.argsort()[:, ::-1]\n",
        "terms = cv.get_feature_names()\n",
        "\n",
        "for i in range(true_k):\n",
        "    print(\"Cluster %d:\" % i),\n",
        "    for ind in order_centroids[i, :10]:\n",
        "        print(' %s' % terms[ind]),\n",
        "    print\n",
        "\n",
        "print(\"\\n\")"
      ],
      "metadata": {
        "id": "uYUa2_Cp6wWG",
        "outputId": "02917771-7620-40ad-d469-7b76ad5124bb",
        "colab": {
          "base_uri": "https://localhost:8080/"
        }
      },
      "execution_count": null,
      "outputs": [
        {
          "output_type": "stream",
          "name": "stdout",
          "text": [
            "Cluster 0:\n",
            " kdrt\n",
            " lestikdrt\n",
            " duga\n",
            " lesti\n",
            " lestibillar\n",
            " kesal\n",
            " pada\n",
            " https\n",
            " rizky\n",
            " simpan\n",
            "Cluster 1:\n",
            " lesti\n",
            " kau\n",
            " uuduknasi\n",
            " kira\n",
            " nian\n",
            " luculucuaaan\n",
            " lu\n",
            " liat\n",
            " twit\n",
            " kosong\n",
            "Cluster 2:\n",
            " blg\n",
            " lesti\n",
            " ngmongin\n",
            " hard\n",
            " gblkin\n",
            " peluk\n",
            " please\n",
            " kerja\n",
            " dont\n",
            " sbgaimana\n",
            "\n",
            "\n"
          ]
        },
        {
          "output_type": "stream",
          "name": "stderr",
          "text": [
            "/usr/local/lib/python3.7/dist-packages/sklearn/utils/deprecation.py:87: FutureWarning: Function get_feature_names is deprecated; get_feature_names is deprecated in 1.0 and will be removed in 1.2. Please use get_feature_names_out instead.\n",
            "  warnings.warn(msg, category=FutureWarning)\n"
          ]
        }
      ]
    },
    {
      "cell_type": "code",
      "source": [
        "#UNTUK MELIHAT DIAGRAM DENDROGRAM DARI BAWAH KEATAS\n",
        "import scipy.cluster.hierarchy as sch\n",
        "X = cv.fit_transform(documents_clean).todense()\n",
        "dendrogram = sch.dendrogram(sch.linkage(X, method = 'ward',metric='euclidean'),orientation=\"top\")\n",
        "#Fungsi Method ward untuk melakukan metode pembentukan cluster yang di dasari oleh hilangnya informasi akibat penggabungan obyek menjadi cluster.\n",
        "plt.title('Dendrogram')\n",
        "plt.xlabel('Jarak Ward')\n",
        "plt.ylabel('Nomor Dokumen')\n",
        "plt.show()"
      ],
      "metadata": {
        "id": "R50vpCyU61CZ",
        "outputId": "c13948e3-eea6-432e-ad0c-a9913fb769a3",
        "colab": {
          "base_uri": "https://localhost:8080/",
          "height": 298
        }
      },
      "execution_count": null,
      "outputs": [
        {
          "output_type": "display_data",
          "data": {
            "text/plain": [
              "<Figure size 432x288 with 1 Axes>"
            ],
            "image/png": "[encoded data removed]"
          },
          "metadata": {
            "needs_background": "light"
          }
        }
      ]
    },
    {
      "cell_type": "code",
      "source": [
        "#UNTUK MELIHAT DIAGRAM DENDROGRAM DARI KIRI KEKANAN\n",
        "import scipy.cluster.hierarchy as sch\n",
        "X = cv.fit_transform(documents_clean).todense()\n",
        "dendrogram = sch.dendrogram(sch.linkage(X, method = 'average',metric='euclidean'),orientation=\"right\") \n",
        "plt.title('Dendrogram')\n",
        "plt.xlabel('Jarak Rerata')\n",
        "plt.ylabel('Nomor Dokumen')\n",
        "plt.show()"
      ],
      "metadata": {
        "id": "6I9AaZtI7B3s",
        "outputId": "79403fce-e065-412b-9e1e-6ecddd912a9a",
        "colab": {
          "base_uri": "https://localhost:8080/",
          "height": 295
        }
      },
      "execution_count": null,
      "outputs": [
        {
          "output_type": "display_data",
          "data": {
            "text/plain": [
              "<Figure size 432x288 with 1 Axes>"
            ],
            "image/png": "[encoded data removed]"
          },
          "metadata": {
            "needs_background": "light"
          }
        }
      ]
    },
    {
      "cell_type": "markdown",
      "source": [
        "https://www.freecodecamp.org/news/python-web-scraping-tutorial/\n",
        "https://medium.com/dataseries/how-to-scrape-millions-of-tweets-using-snscrape-195ee3594721"
      ],
      "metadata": {
        "id": "gnHGGgt2M-ia"
      }
    }
  ]
}